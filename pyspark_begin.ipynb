{
  "nbformat": 4,
  "nbformat_minor": 0,
  "metadata": {
    "colab": {
      "name": "pyspark_begin.ipynb",
      "provenance": [],
      "mount_file_id": "https://github.com/Yadukrishnan1/Pyspark/blob/main/pyspark_begin.ipynb",
      "authorship_tag": "ABX9TyMFrVr2gvXBP3JglHcoAJA4",
      "include_colab_link": true
    },
    "kernelspec": {
      "name": "python3",
      "display_name": "Python 3"
    },
    "language_info": {
      "name": "python"
    }
  },
  "cells": [
    {
      "cell_type": "markdown",
      "metadata": {
        "id": "view-in-github",
        "colab_type": "text"
      },
      "source": [
        "<a href=\"https://colab.research.google.com/github/Yadukrishnan1/Pyspark/blob/main/pyspark_begin.ipynb\" target=\"_parent\"><img src=\"https://colab.research.google.com/assets/colab-badge.svg\" alt=\"Open In Colab\"/></a>"
      ]
    },
    {
      "cell_type": "code",
      "execution_count": 1,
      "metadata": {
        "colab": {
          "base_uri": "https://localhost:8080/"
        },
        "id": "dh9_PQgTMeEK",
        "outputId": "7309e113-7d7d-4e8c-a1b5-3e34c77344ee"
      },
      "outputs": [
        {
          "output_type": "stream",
          "name": "stdout",
          "text": [
            "Collecting pyspark\n",
            "  Downloading pyspark-3.2.1.tar.gz (281.4 MB)\n",
            "\u001b[K     |████████████████████████████████| 281.4 MB 34 kB/s \n",
            "\u001b[?25hCollecting py4j==0.10.9.3\n",
            "  Downloading py4j-0.10.9.3-py2.py3-none-any.whl (198 kB)\n",
            "\u001b[K     |████████████████████████████████| 198 kB 57.8 MB/s \n",
            "\u001b[?25hBuilding wheels for collected packages: pyspark\n",
            "  Building wheel for pyspark (setup.py) ... \u001b[?25l\u001b[?25hdone\n",
            "  Created wheel for pyspark: filename=pyspark-3.2.1-py2.py3-none-any.whl size=281853642 sha256=20ce3a44975d12c4a3afd84b3f77eb207bc4ef0c34d5e9497dc86af57dea35a9\n",
            "  Stored in directory: /root/.cache/pip/wheels/9f/f5/07/7cd8017084dce4e93e84e92efd1e1d5334db05f2e83bcef74f\n",
            "Successfully built pyspark\n",
            "Installing collected packages: py4j, pyspark\n",
            "Successfully installed py4j-0.10.9.3 pyspark-3.2.1\n"
          ]
        }
      ],
      "source": [
        "! pip install pyspark\n"
      ]
    },
    {
      "cell_type": "code",
      "source": [
        "PATH='/content/drive/MyDrive/Colab_Notebooks/pyspark/equity_value_data.csv'"
      ],
      "metadata": {
        "id": "NpD3gHYcNh9J"
      },
      "execution_count": 2,
      "outputs": []
    },
    {
      "cell_type": "code",
      "source": [
        "import pyspark"
      ],
      "metadata": {
        "id": "yUY_T6aNNFzR"
      },
      "execution_count": 3,
      "outputs": []
    },
    {
      "cell_type": "code",
      "source": [
        "import pandas as pd"
      ],
      "metadata": {
        "id": "n0mvRWkyNIkN"
      },
      "execution_count": 4,
      "outputs": []
    },
    {
      "cell_type": "code",
      "source": [
        "data=pd.read_csv('/content/drive/MyDrive/Colab_Notebooks/pyspark/equity_value_data.csv')"
      ],
      "metadata": {
        "id": "k0pzM167OthE"
      },
      "execution_count": 6,
      "outputs": []
    },
    {
      "cell_type": "code",
      "source": [
        "data.head()"
      ],
      "metadata": {
        "colab": {
          "base_uri": "https://localhost:8080/",
          "height": 206
        },
        "id": "2FOAZ8MdO61z",
        "outputId": "c9d9c06b-da84-43a4-f65a-c78fb5009147"
      },
      "execution_count": 7,
      "outputs": [
        {
          "output_type": "execute_result",
          "data": {
            "text/plain": [
              "              timestamp  close_equity                           user_id\n",
              "0  2016-11-16T00:00:00Z         48.16  bcef4fa9b0bdf22bcf7deae708decf03\n",
              "1  2016-11-17T00:00:00Z         48.16  bcef4fa9b0bdf22bcf7deae708decf03\n",
              "2  2016-11-18T00:00:00Z         48.16  bcef4fa9b0bdf22bcf7deae708decf03\n",
              "3  2016-11-21T00:00:00Z         48.16  bcef4fa9b0bdf22bcf7deae708decf03\n",
              "4  2016-11-22T00:00:00Z         48.16  bcef4fa9b0bdf22bcf7deae708decf03"
            ],
            "text/html": [
              "\n",
              "  <div id=\"df-e614ec5b-fb06-4075-bdfd-b754609c8403\">\n",
              "    <div class=\"colab-df-container\">\n",
              "      <div>\n",
              "<style scoped>\n",
              "    .dataframe tbody tr th:only-of-type {\n",
              "        vertical-align: middle;\n",
              "    }\n",
              "\n",
              "    .dataframe tbody tr th {\n",
              "        vertical-align: top;\n",
              "    }\n",
              "\n",
              "    .dataframe thead th {\n",
              "        text-align: right;\n",
              "    }\n",
              "</style>\n",
              "<table border=\"1\" class=\"dataframe\">\n",
              "  <thead>\n",
              "    <tr style=\"text-align: right;\">\n",
              "      <th></th>\n",
              "      <th>timestamp</th>\n",
              "      <th>close_equity</th>\n",
              "      <th>user_id</th>\n",
              "    </tr>\n",
              "  </thead>\n",
              "  <tbody>\n",
              "    <tr>\n",
              "      <th>0</th>\n",
              "      <td>2016-11-16T00:00:00Z</td>\n",
              "      <td>48.16</td>\n",
              "      <td>bcef4fa9b0bdf22bcf7deae708decf03</td>\n",
              "    </tr>\n",
              "    <tr>\n",
              "      <th>1</th>\n",
              "      <td>2016-11-17T00:00:00Z</td>\n",
              "      <td>48.16</td>\n",
              "      <td>bcef4fa9b0bdf22bcf7deae708decf03</td>\n",
              "    </tr>\n",
              "    <tr>\n",
              "      <th>2</th>\n",
              "      <td>2016-11-18T00:00:00Z</td>\n",
              "      <td>48.16</td>\n",
              "      <td>bcef4fa9b0bdf22bcf7deae708decf03</td>\n",
              "    </tr>\n",
              "    <tr>\n",
              "      <th>3</th>\n",
              "      <td>2016-11-21T00:00:00Z</td>\n",
              "      <td>48.16</td>\n",
              "      <td>bcef4fa9b0bdf22bcf7deae708decf03</td>\n",
              "    </tr>\n",
              "    <tr>\n",
              "      <th>4</th>\n",
              "      <td>2016-11-22T00:00:00Z</td>\n",
              "      <td>48.16</td>\n",
              "      <td>bcef4fa9b0bdf22bcf7deae708decf03</td>\n",
              "    </tr>\n",
              "  </tbody>\n",
              "</table>\n",
              "</div>\n",
              "      <button class=\"colab-df-convert\" onclick=\"convertToInteractive('df-e614ec5b-fb06-4075-bdfd-b754609c8403')\"\n",
              "              title=\"Convert this dataframe to an interactive table.\"\n",
              "              style=\"display:none;\">\n",
              "        \n",
              "  <svg xmlns=\"http://www.w3.org/2000/svg\" height=\"24px\"viewBox=\"0 0 24 24\"\n",
              "       width=\"24px\">\n",
              "    <path d=\"M0 0h24v24H0V0z\" fill=\"none\"/>\n",
              "    <path d=\"M18.56 5.44l.94 2.06.94-2.06 2.06-.94-2.06-.94-.94-2.06-.94 2.06-2.06.94zm-11 1L8.5 8.5l.94-2.06 2.06-.94-2.06-.94L8.5 2.5l-.94 2.06-2.06.94zm10 10l.94 2.06.94-2.06 2.06-.94-2.06-.94-.94-2.06-.94 2.06-2.06.94z\"/><path d=\"M17.41 7.96l-1.37-1.37c-.4-.4-.92-.59-1.43-.59-.52 0-1.04.2-1.43.59L10.3 9.45l-7.72 7.72c-.78.78-.78 2.05 0 2.83L4 21.41c.39.39.9.59 1.41.59.51 0 1.02-.2 1.41-.59l7.78-7.78 2.81-2.81c.8-.78.8-2.07 0-2.86zM5.41 20L4 18.59l7.72-7.72 1.47 1.35L5.41 20z\"/>\n",
              "  </svg>\n",
              "      </button>\n",
              "      \n",
              "  <style>\n",
              "    .colab-df-container {\n",
              "      display:flex;\n",
              "      flex-wrap:wrap;\n",
              "      gap: 12px;\n",
              "    }\n",
              "\n",
              "    .colab-df-convert {\n",
              "      background-color: #E8F0FE;\n",
              "      border: none;\n",
              "      border-radius: 50%;\n",
              "      cursor: pointer;\n",
              "      display: none;\n",
              "      fill: #1967D2;\n",
              "      height: 32px;\n",
              "      padding: 0 0 0 0;\n",
              "      width: 32px;\n",
              "    }\n",
              "\n",
              "    .colab-df-convert:hover {\n",
              "      background-color: #E2EBFA;\n",
              "      box-shadow: 0px 1px 2px rgba(60, 64, 67, 0.3), 0px 1px 3px 1px rgba(60, 64, 67, 0.15);\n",
              "      fill: #174EA6;\n",
              "    }\n",
              "\n",
              "    [theme=dark] .colab-df-convert {\n",
              "      background-color: #3B4455;\n",
              "      fill: #D2E3FC;\n",
              "    }\n",
              "\n",
              "    [theme=dark] .colab-df-convert:hover {\n",
              "      background-color: #434B5C;\n",
              "      box-shadow: 0px 1px 3px 1px rgba(0, 0, 0, 0.15);\n",
              "      filter: drop-shadow(0px 1px 2px rgba(0, 0, 0, 0.3));\n",
              "      fill: #FFFFFF;\n",
              "    }\n",
              "  </style>\n",
              "\n",
              "      <script>\n",
              "        const buttonEl =\n",
              "          document.querySelector('#df-e614ec5b-fb06-4075-bdfd-b754609c8403 button.colab-df-convert');\n",
              "        buttonEl.style.display =\n",
              "          google.colab.kernel.accessAllowed ? 'block' : 'none';\n",
              "\n",
              "        async function convertToInteractive(key) {\n",
              "          const element = document.querySelector('#df-e614ec5b-fb06-4075-bdfd-b754609c8403');\n",
              "          const dataTable =\n",
              "            await google.colab.kernel.invokeFunction('convertToInteractive',\n",
              "                                                     [key], {});\n",
              "          if (!dataTable) return;\n",
              "\n",
              "          const docLinkHtml = 'Like what you see? Visit the ' +\n",
              "            '<a target=\"_blank\" href=https://colab.research.google.com/notebooks/data_table.ipynb>data table notebook</a>'\n",
              "            + ' to learn more about interactive tables.';\n",
              "          element.innerHTML = '';\n",
              "          dataTable['output_type'] = 'display_data';\n",
              "          await google.colab.output.renderOutput(dataTable, element);\n",
              "          const docLink = document.createElement('div');\n",
              "          docLink.innerHTML = docLinkHtml;\n",
              "          element.appendChild(docLink);\n",
              "        }\n",
              "      </script>\n",
              "    </div>\n",
              "  </div>\n",
              "  "
            ]
          },
          "metadata": {},
          "execution_count": 7
        }
      ]
    },
    {
      "cell_type": "code",
      "source": [
        "from pyspark.sql import SparkSession"
      ],
      "metadata": {
        "id": "GGUnO6SkPAFp"
      },
      "execution_count": 8,
      "outputs": []
    },
    {
      "cell_type": "code",
      "source": [
        "spark=SparkSession.builder.appName('Practice').getOrCreate()"
      ],
      "metadata": {
        "id": "hPTSlzNjPJOq"
      },
      "execution_count": 9,
      "outputs": []
    },
    {
      "cell_type": "code",
      "source": [
        "spark"
      ],
      "metadata": {
        "colab": {
          "base_uri": "https://localhost:8080/",
          "height": 219
        },
        "id": "4E7kvHf7PUga",
        "outputId": "a95c6f13-fe86-4dcd-8f5c-1464b06b513e"
      },
      "execution_count": 10,
      "outputs": [
        {
          "output_type": "execute_result",
          "data": {
            "text/plain": [
              "<pyspark.sql.session.SparkSession at 0x7fe4838ab290>"
            ],
            "text/html": [
              "\n",
              "            <div>\n",
              "                <p><b>SparkSession - in-memory</b></p>\n",
              "                \n",
              "        <div>\n",
              "            <p><b>SparkContext</b></p>\n",
              "\n",
              "            <p><a href=\"http://b6e7f7a1b26c:4040\">Spark UI</a></p>\n",
              "\n",
              "            <dl>\n",
              "              <dt>Version</dt>\n",
              "                <dd><code>v3.2.1</code></dd>\n",
              "              <dt>Master</dt>\n",
              "                <dd><code>local[*]</code></dd>\n",
              "              <dt>AppName</dt>\n",
              "                <dd><code>Practice</code></dd>\n",
              "            </dl>\n",
              "        </div>\n",
              "        \n",
              "            </div>\n",
              "        "
            ]
          },
          "metadata": {},
          "execution_count": 10
        }
      ]
    },
    {
      "cell_type": "code",
      "source": [
        "df_pyspark=spark.read.csv(PATH)\n",
        "df_pyspark.show()"
      ],
      "metadata": {
        "colab": {
          "base_uri": "https://localhost:8080/"
        },
        "id": "CRdb-9-KPYWa",
        "outputId": "ccb64ad8-1244-4490-fe6e-87bd8fdc1071"
      },
      "execution_count": 11,
      "outputs": [
        {
          "output_type": "stream",
          "name": "stdout",
          "text": [
            "+--------------------+------------+--------------------+\n",
            "|                 _c0|         _c1|                 _c2|\n",
            "+--------------------+------------+--------------------+\n",
            "|           timestamp|close_equity|             user_id|\n",
            "|2016-11-16T00:00:00Z|       48.16|bcef4fa9b0bdf22bc...|\n",
            "|2016-11-17T00:00:00Z|       48.16|bcef4fa9b0bdf22bc...|\n",
            "|2016-11-18T00:00:00Z|       48.16|bcef4fa9b0bdf22bc...|\n",
            "|2016-11-21T00:00:00Z|       48.16|bcef4fa9b0bdf22bc...|\n",
            "|2016-11-22T00:00:00Z|       48.16|bcef4fa9b0bdf22bc...|\n",
            "|2016-11-23T00:00:00Z|       48.16|bcef4fa9b0bdf22bc...|\n",
            "|2016-11-25T00:00:00Z|       48.16|bcef4fa9b0bdf22bc...|\n",
            "|2016-11-28T00:00:00Z|       48.16|bcef4fa9b0bdf22bc...|\n",
            "|2016-11-29T00:00:00Z|       48.16|bcef4fa9b0bdf22bc...|\n",
            "|2016-11-30T00:00:00Z|       48.16|bcef4fa9b0bdf22bc...|\n",
            "|2016-12-01T00:00:00Z|       48.16|bcef4fa9b0bdf22bc...|\n",
            "|2016-12-02T00:00:00Z|       48.16|bcef4fa9b0bdf22bc...|\n",
            "|2016-12-05T00:00:00Z|       48.16|bcef4fa9b0bdf22bc...|\n",
            "|2016-12-06T00:00:00Z|       48.16|bcef4fa9b0bdf22bc...|\n",
            "|2016-12-07T00:00:00Z|       48.16|bcef4fa9b0bdf22bc...|\n",
            "|2016-12-08T00:00:00Z|       48.16|bcef4fa9b0bdf22bc...|\n",
            "|2016-12-09T00:00:00Z|       48.16|bcef4fa9b0bdf22bc...|\n",
            "|2016-12-12T00:00:00Z|       48.16|bcef4fa9b0bdf22bc...|\n",
            "|2016-12-13T00:00:00Z|       48.16|bcef4fa9b0bdf22bc...|\n",
            "+--------------------+------------+--------------------+\n",
            "only showing top 20 rows\n",
            "\n"
          ]
        }
      ]
    },
    {
      "cell_type": "code",
      "source": [
        "df_pyspark.printSchema()"
      ],
      "metadata": {
        "colab": {
          "base_uri": "https://localhost:8080/"
        },
        "id": "gE7Aw0N0Svx2",
        "outputId": "7a4125a3-db84-4397-9441-8a61ea21e6b4"
      },
      "execution_count": 12,
      "outputs": [
        {
          "output_type": "stream",
          "name": "stdout",
          "text": [
            "root\n",
            " |-- _c0: string (nullable = true)\n",
            " |-- _c1: string (nullable = true)\n",
            " |-- _c2: string (nullable = true)\n",
            "\n"
          ]
        }
      ]
    },
    {
      "cell_type": "code",
      "source": [
        "df_pyspark=spark.read.option('header', 'true').csv(PATH, inferSchema=True)\n",
        "df_pyspark.show()"
      ],
      "metadata": {
        "colab": {
          "base_uri": "https://localhost:8080/"
        },
        "id": "QglIbxUNPsuf",
        "outputId": "e9b48bf2-82ad-4aeb-ac15-5fc1e8852137"
      },
      "execution_count": 13,
      "outputs": [
        {
          "output_type": "stream",
          "name": "stdout",
          "text": [
            "+-------------------+------------+--------------------+\n",
            "|          timestamp|close_equity|             user_id|\n",
            "+-------------------+------------+--------------------+\n",
            "|2016-11-16 00:00:00|       48.16|bcef4fa9b0bdf22bc...|\n",
            "|2016-11-17 00:00:00|       48.16|bcef4fa9b0bdf22bc...|\n",
            "|2016-11-18 00:00:00|       48.16|bcef4fa9b0bdf22bc...|\n",
            "|2016-11-21 00:00:00|       48.16|bcef4fa9b0bdf22bc...|\n",
            "|2016-11-22 00:00:00|       48.16|bcef4fa9b0bdf22bc...|\n",
            "|2016-11-23 00:00:00|       48.16|bcef4fa9b0bdf22bc...|\n",
            "|2016-11-25 00:00:00|       48.16|bcef4fa9b0bdf22bc...|\n",
            "|2016-11-28 00:00:00|       48.16|bcef4fa9b0bdf22bc...|\n",
            "|2016-11-29 00:00:00|       48.16|bcef4fa9b0bdf22bc...|\n",
            "|2016-11-30 00:00:00|       48.16|bcef4fa9b0bdf22bc...|\n",
            "|2016-12-01 00:00:00|       48.16|bcef4fa9b0bdf22bc...|\n",
            "|2016-12-02 00:00:00|       48.16|bcef4fa9b0bdf22bc...|\n",
            "|2016-12-05 00:00:00|       48.16|bcef4fa9b0bdf22bc...|\n",
            "|2016-12-06 00:00:00|       48.16|bcef4fa9b0bdf22bc...|\n",
            "|2016-12-07 00:00:00|       48.16|bcef4fa9b0bdf22bc...|\n",
            "|2016-12-08 00:00:00|       48.16|bcef4fa9b0bdf22bc...|\n",
            "|2016-12-09 00:00:00|       48.16|bcef4fa9b0bdf22bc...|\n",
            "|2016-12-12 00:00:00|       48.16|bcef4fa9b0bdf22bc...|\n",
            "|2016-12-13 00:00:00|       48.16|bcef4fa9b0bdf22bc...|\n",
            "|2016-12-14 00:00:00|       48.16|bcef4fa9b0bdf22bc...|\n",
            "+-------------------+------------+--------------------+\n",
            "only showing top 20 rows\n",
            "\n"
          ]
        }
      ]
    },
    {
      "cell_type": "code",
      "source": [
        "df_pyspark.printSchema()"
      ],
      "metadata": {
        "colab": {
          "base_uri": "https://localhost:8080/"
        },
        "id": "zqJvp6YmPy8i",
        "outputId": "8cdb908f-3002-40f8-9d94-691c917e1ff3"
      },
      "execution_count": 14,
      "outputs": [
        {
          "output_type": "stream",
          "name": "stdout",
          "text": [
            "root\n",
            " |-- timestamp: timestamp (nullable = true)\n",
            " |-- close_equity: double (nullable = true)\n",
            " |-- user_id: string (nullable = true)\n",
            "\n"
          ]
        }
      ]
    },
    {
      "cell_type": "code",
      "source": [
        " df_pyspark.select(['timestamp', 'close_equity']).show()"
      ],
      "metadata": {
        "colab": {
          "base_uri": "https://localhost:8080/"
        },
        "id": "8qv3PbERQfpL",
        "outputId": "a5490c9c-3ef1-428d-96ed-91835d4f8790"
      },
      "execution_count": 15,
      "outputs": [
        {
          "output_type": "stream",
          "name": "stdout",
          "text": [
            "+-------------------+------------+\n",
            "|          timestamp|close_equity|\n",
            "+-------------------+------------+\n",
            "|2016-11-16 00:00:00|       48.16|\n",
            "|2016-11-17 00:00:00|       48.16|\n",
            "|2016-11-18 00:00:00|       48.16|\n",
            "|2016-11-21 00:00:00|       48.16|\n",
            "|2016-11-22 00:00:00|       48.16|\n",
            "|2016-11-23 00:00:00|       48.16|\n",
            "|2016-11-25 00:00:00|       48.16|\n",
            "|2016-11-28 00:00:00|       48.16|\n",
            "|2016-11-29 00:00:00|       48.16|\n",
            "|2016-11-30 00:00:00|       48.16|\n",
            "|2016-12-01 00:00:00|       48.16|\n",
            "|2016-12-02 00:00:00|       48.16|\n",
            "|2016-12-05 00:00:00|       48.16|\n",
            "|2016-12-06 00:00:00|       48.16|\n",
            "|2016-12-07 00:00:00|       48.16|\n",
            "|2016-12-08 00:00:00|       48.16|\n",
            "|2016-12-09 00:00:00|       48.16|\n",
            "|2016-12-12 00:00:00|       48.16|\n",
            "|2016-12-13 00:00:00|       48.16|\n",
            "|2016-12-14 00:00:00|       48.16|\n",
            "+-------------------+------------+\n",
            "only showing top 20 rows\n",
            "\n"
          ]
        }
      ]
    },
    {
      "cell_type": "code",
      "source": [
        "df_pyspark.dtypes"
      ],
      "metadata": {
        "colab": {
          "base_uri": "https://localhost:8080/"
        },
        "id": "H9gDZ4ZwTCn-",
        "outputId": "666e5bf9-fb0f-4832-92e5-abea2639e665"
      },
      "execution_count": 16,
      "outputs": [
        {
          "output_type": "execute_result",
          "data": {
            "text/plain": [
              "[('timestamp', 'timestamp'), ('close_equity', 'double'), ('user_id', 'string')]"
            ]
          },
          "metadata": {},
          "execution_count": 16
        }
      ]
    },
    {
      "cell_type": "code",
      "source": [
        "df_pyspark.describe().show()"
      ],
      "metadata": {
        "colab": {
          "base_uri": "https://localhost:8080/"
        },
        "id": "4CuGkqXPTmy9",
        "outputId": "7d5c0c3f-7170-433f-b238-b436fea5f335"
      },
      "execution_count": 17,
      "outputs": [
        {
          "output_type": "stream",
          "name": "stdout",
          "text": [
            "+-------+-----------------+--------------------+\n",
            "|summary|     close_equity|             user_id|\n",
            "+-------+-----------------+--------------------+\n",
            "|  count|          1119158|             1119158|\n",
            "|   mean| 3976.95326619293|                null|\n",
            "| stddev|13085.90376408953|                null|\n",
            "|    min|             10.0|0012db34aa7b083f5...|\n",
            "|    max|        478948.41|ffc1e622f3a0b2666...|\n",
            "+-------+-----------------+--------------------+\n",
            "\n"
          ]
        }
      ]
    },
    {
      "cell_type": "markdown",
      "source": [
        "PySpark ML using MLLIB"
      ],
      "metadata": {
        "id": "qqbFv7sLbwov"
      }
    },
    {
      "cell_type": "code",
      "source": [
        "from pyspark.ml.feature import VectorAssembler"
      ],
      "metadata": {
        "id": "cfqSR45ETuQF"
      },
      "execution_count": 18,
      "outputs": []
    },
    {
      "cell_type": "code",
      "source": [
        "from pyspark.ml.regression import LinearRegression"
      ],
      "metadata": {
        "id": "gT2TJdzFcSeX"
      },
      "execution_count": 20,
      "outputs": []
    },
    {
      "cell_type": "code",
      "source": [
        ""
      ],
      "metadata": {
        "id": "pkL0sE_2cnle"
      },
      "execution_count": null,
      "outputs": []
    }
  ]
}